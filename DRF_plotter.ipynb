{
 "cells": [
  {
   "cell_type": "markdown",
   "metadata": {},
   "source": [
    "# Grape2 Spectrogram Generator\n",
    "\n",
    "Author: Cuong Nguyen"
   ]
  },
  {
   "cell_type": "markdown",
   "metadata": {},
   "source": [
    "## Version History\n",
    "\n",
    "Date     | Version     | Author | Comments\n",
    "---------|-------------|--------|-----------\n",
    "07-25-24 | Ver 1.00.00 | KC3UAX | Functional and uploaded to GitHub"
   ]
  },
  {
   "cell_type": "code",
   "execution_count": 1,
   "metadata": {},
   "outputs": [],
   "source": [
    "import os\n",
    "import digital_rf\n",
    "import sys\n",
    "import threading\n",
    "import pandas as pd"
   ]
  },
  {
   "cell_type": "code",
   "execution_count": 2,
   "metadata": {},
   "outputs": [
    {
     "ename": "ValueError",
     "evalue": "No channels found: top_level_directory_arg = home/cuong/G2DATA/Sdrf/OBS2024-04-08T00-00. If path is correct, you may need to run recreate_properties_file to re-create missing drf_properties.h5 files.",
     "output_type": "error",
     "traceback": [
      "\u001b[0;31m---------------------------------------------------------------------------\u001b[0m",
      "\u001b[0;31mValueError\u001b[0m                                Traceback (most recent call last)",
      "Cell \u001b[0;32mIn[2], line 5\u001b[0m\n\u001b[1;32m      3\u001b[0m datadir \u001b[38;5;241m=\u001b[39m os\u001b[38;5;241m.\u001b[39mpath\u001b[38;5;241m.\u001b[39mjoin(Sdrf_dir, \u001b[38;5;124mf\u001b[39m\u001b[38;5;124m'\u001b[39m\u001b[38;5;124mOBS\u001b[39m\u001b[38;5;132;01m{\u001b[39;00mdata_date\u001b[38;5;132;01m}\u001b[39;00m\u001b[38;5;124mT00-00\u001b[39m\u001b[38;5;124m'\u001b[39m)\n\u001b[1;32m      4\u001b[0m metadir \u001b[38;5;241m=\u001b[39m os\u001b[38;5;241m.\u001b[39mpath\u001b[38;5;241m.\u001b[39mjoin(datadir, \u001b[38;5;124m'\u001b[39m\u001b[38;5;124mch0\u001b[39m\u001b[38;5;124m'\u001b[39m, \u001b[38;5;124m'\u001b[39m\u001b[38;5;124mmetadata\u001b[39m\u001b[38;5;124m'\u001b[39m)\n\u001b[0;32m----> 5\u001b[0m dro \u001b[38;5;241m=\u001b[39m \u001b[43mdigital_rf\u001b[49m\u001b[38;5;241;43m.\u001b[39;49m\u001b[43mDigitalRFReader\u001b[49m\u001b[43m(\u001b[49m\u001b[43mdatadir\u001b[49m\u001b[43m)\u001b[49m\n\u001b[1;32m      7\u001b[0m start_index, end_index \u001b[38;5;241m=\u001b[39m dro\u001b[38;5;241m.\u001b[39mget_bounds(\u001b[38;5;124m'\u001b[39m\u001b[38;5;124mch0\u001b[39m\u001b[38;5;124m'\u001b[39m)\n\u001b[1;32m      8\u001b[0m \u001b[38;5;28mprint\u001b[39m(\u001b[38;5;124mf\u001b[39m\u001b[38;5;124m'\u001b[39m\u001b[38;5;124mStart index: \u001b[39m\u001b[38;5;132;01m{\u001b[39;00mstart_index\u001b[38;5;132;01m}\u001b[39;00m\u001b[38;5;130;01m\\n\u001b[39;00m\u001b[38;5;124mEnd index:   \u001b[39m\u001b[38;5;132;01m{\u001b[39;00mend_index\u001b[38;5;132;01m}\u001b[39;00m\u001b[38;5;124m'\u001b[39m)\n",
      "File \u001b[0;32m~/anaconda3/envs/radioconda/lib/python3.11/site-packages/digital_rf/digital_rf_hdf5.py:888\u001b[0m, in \u001b[0;36mDigitalRFReader.__init__\u001b[0;34m(self, top_level_directory_arg, rdcc_nbytes)\u001b[0m\n\u001b[1;32m    881\u001b[0m \u001b[38;5;28;01mif\u001b[39;00m \u001b[38;5;129;01mnot\u001b[39;00m \u001b[38;5;28mself\u001b[39m\u001b[38;5;241m.\u001b[39m_channel_dict:\n\u001b[1;32m    882\u001b[0m     errstr \u001b[38;5;241m=\u001b[39m (\n\u001b[1;32m    883\u001b[0m         \u001b[38;5;124m\"\u001b[39m\u001b[38;5;124mNo channels found: top_level_directory_arg = \u001b[39m\u001b[38;5;132;01m{0}\u001b[39;00m\u001b[38;5;124m.\u001b[39m\u001b[38;5;124m\"\u001b[39m\n\u001b[1;32m    884\u001b[0m         \u001b[38;5;124m\"\u001b[39m\u001b[38;5;124m If path is correct, you may need to run\u001b[39m\u001b[38;5;124m\"\u001b[39m\n\u001b[1;32m    885\u001b[0m         \u001b[38;5;124m\"\u001b[39m\u001b[38;5;124m recreate_properties_file to re-create missing\u001b[39m\u001b[38;5;124m\"\u001b[39m\n\u001b[1;32m    886\u001b[0m         \u001b[38;5;124m\"\u001b[39m\u001b[38;5;124m drf_properties.h5 files.\u001b[39m\u001b[38;5;124m\"\u001b[39m\n\u001b[1;32m    887\u001b[0m     )\n\u001b[0;32m--> 888\u001b[0m     \u001b[38;5;28;01mraise\u001b[39;00m \u001b[38;5;167;01mValueError\u001b[39;00m(errstr\u001b[38;5;241m.\u001b[39mformat(top_level_directory_arg))\n\u001b[1;32m    890\u001b[0m \u001b[38;5;66;03m# dictionary to store cached Digital Metadata reader for each channel\u001b[39;00m\n\u001b[1;32m    891\u001b[0m \u001b[38;5;28mself\u001b[39m\u001b[38;5;241m.\u001b[39m_channel_metadata_reader \u001b[38;5;241m=\u001b[39m {}\n",
      "\u001b[0;31mValueError\u001b[0m: No channels found: top_level_directory_arg = home/cuong/G2DATA/Sdrf/OBS2024-04-08T00-00. If path is correct, you may need to run recreate_properties_file to re-create missing drf_properties.h5 files."
     ]
    }
   ],
   "source": [
    "Sdrf_dir = 'home/cuong/G2DATA/Sdrf'\n",
    "data_date = '2024-04-08'\n",
    "datadir = os.path.join(Sdrf_dir, f'OBS{data_date}T00-00')\n",
    "metadir = os.path.join(datadir, 'ch0', 'metadata')\n",
    "dro = digital_rf.DigitalRFReader(datadir)\n",
    "\n",
    "start_index, end_index = dro.get_bounds('ch0')\n",
    "print(f'Start index: {start_index}\\nEnd index:   {end_index}')\n",
    "cont_data_arr = dro.get_continuous_blocks(start_index, end_index, 'ch0')\n",
    "print(\n",
    "    (\n",
    "        'The following is a OrderedDict of all continuous block of data in'\n",
    "        '(start_sample, length) format: %s'\n",
    "    )\n",
    "    % (str(cont_data_arr))\n",
    ")\n",
    "\n",
    "nsamps = 14400000\n",
    "start_sample = list(cont_data_arr.keys())[0]\n",
    "\n",
    "df = pd.DataFrame()\n",
    "end_hour = 1\n",
    "while start_sample < end_index and end_hour < (start_sample-start_index)/8000/3600:\n",
    "    print(f\"At hour {(start_sample-start_index)/8000/3600}\")\n",
    "    result = dro.read_vector(start_sample, nsamps, 'ch0')\n",
    "    df = pd.concat([df, pd.DataFrame(result)])\n",
    "    start_sample += nsamps\n",
    "    print(df.shape)"
   ]
  },
  {
   "cell_type": "code",
   "execution_count": null,
   "metadata": {},
   "outputs": [],
   "source": []
  }
 ],
 "metadata": {
  "kernelspec": {
   "display_name": "radioconda",
   "language": "python",
   "name": "python3"
  },
  "language_info": {
   "codemirror_mode": {
    "name": "ipython",
    "version": 3
   },
   "file_extension": ".py",
   "mimetype": "text/x-python",
   "name": "python",
   "nbconvert_exporter": "python",
   "pygments_lexer": "ipython3",
   "version": "3.11.9"
  }
 },
 "nbformat": 4,
 "nbformat_minor": 2
}
